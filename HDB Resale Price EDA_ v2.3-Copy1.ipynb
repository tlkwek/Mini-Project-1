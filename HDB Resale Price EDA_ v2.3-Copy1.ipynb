{
 "cells": [
  {
   "cell_type": "code",
   "execution_count": 8,
   "id": "daa2c7e7",
   "metadata": {
    "scrolled": true
   },
   "outputs": [],
   "source": [
    "import pandas as pd\n",
    "import numpy as np\n",
    "import matplotlib.pyplot as plt\n",
    "import seaborn as sns\n",
    "\n",
    "%matplotlib inline"
   ]
  },
  {
   "cell_type": "code",
   "execution_count": 9,
   "id": "978291d7",
   "metadata": {},
   "outputs": [
    {
     "data": {
      "text/html": [
       "<div>\n",
       "<style scoped>\n",
       "    .dataframe tbody tr th:only-of-type {\n",
       "        vertical-align: middle;\n",
       "    }\n",
       "\n",
       "    .dataframe tbody tr th {\n",
       "        vertical-align: top;\n",
       "    }\n",
       "\n",
       "    .dataframe thead th {\n",
       "        text-align: right;\n",
       "    }\n",
       "</style>\n",
       "<table border=\"1\" class=\"dataframe\">\n",
       "  <thead>\n",
       "    <tr style=\"text-align: right;\">\n",
       "      <th></th>\n",
       "      <th>month</th>\n",
       "      <th>town</th>\n",
       "      <th>flat_type</th>\n",
       "      <th>block</th>\n",
       "      <th>street_name</th>\n",
       "      <th>storey_range</th>\n",
       "      <th>floor_area_sqm</th>\n",
       "      <th>flat_model</th>\n",
       "      <th>lease_commence_date</th>\n",
       "      <th>resale_price</th>\n",
       "    </tr>\n",
       "  </thead>\n",
       "  <tbody>\n",
       "    <tr>\n",
       "      <th>0</th>\n",
       "      <td>1990-01</td>\n",
       "      <td>ANG MO KIO</td>\n",
       "      <td>1 ROOM</td>\n",
       "      <td>309</td>\n",
       "      <td>ANG MO KIO AVE 1</td>\n",
       "      <td>10 TO 12</td>\n",
       "      <td>31.0</td>\n",
       "      <td>IMPROVED</td>\n",
       "      <td>1977</td>\n",
       "      <td>9000</td>\n",
       "    </tr>\n",
       "    <tr>\n",
       "      <th>1</th>\n",
       "      <td>1990-01</td>\n",
       "      <td>ANG MO KIO</td>\n",
       "      <td>1 ROOM</td>\n",
       "      <td>309</td>\n",
       "      <td>ANG MO KIO AVE 1</td>\n",
       "      <td>04 TO 06</td>\n",
       "      <td>31.0</td>\n",
       "      <td>IMPROVED</td>\n",
       "      <td>1977</td>\n",
       "      <td>6000</td>\n",
       "    </tr>\n",
       "    <tr>\n",
       "      <th>2</th>\n",
       "      <td>1990-01</td>\n",
       "      <td>ANG MO KIO</td>\n",
       "      <td>1 ROOM</td>\n",
       "      <td>309</td>\n",
       "      <td>ANG MO KIO AVE 1</td>\n",
       "      <td>10 TO 12</td>\n",
       "      <td>31.0</td>\n",
       "      <td>IMPROVED</td>\n",
       "      <td>1977</td>\n",
       "      <td>8000</td>\n",
       "    </tr>\n",
       "    <tr>\n",
       "      <th>3</th>\n",
       "      <td>1990-01</td>\n",
       "      <td>ANG MO KIO</td>\n",
       "      <td>1 ROOM</td>\n",
       "      <td>309</td>\n",
       "      <td>ANG MO KIO AVE 1</td>\n",
       "      <td>07 TO 09</td>\n",
       "      <td>31.0</td>\n",
       "      <td>IMPROVED</td>\n",
       "      <td>1977</td>\n",
       "      <td>6000</td>\n",
       "    </tr>\n",
       "    <tr>\n",
       "      <th>4</th>\n",
       "      <td>1990-01</td>\n",
       "      <td>ANG MO KIO</td>\n",
       "      <td>3 ROOM</td>\n",
       "      <td>216</td>\n",
       "      <td>ANG MO KIO AVE 1</td>\n",
       "      <td>04 TO 06</td>\n",
       "      <td>73.0</td>\n",
       "      <td>NEW GENERATION</td>\n",
       "      <td>1976</td>\n",
       "      <td>47200</td>\n",
       "    </tr>\n",
       "  </tbody>\n",
       "</table>\n",
       "</div>"
      ],
      "text/plain": [
       "     month        town flat_type block       street_name storey_range  \\\n",
       "0  1990-01  ANG MO KIO    1 ROOM   309  ANG MO KIO AVE 1     10 TO 12   \n",
       "1  1990-01  ANG MO KIO    1 ROOM   309  ANG MO KIO AVE 1     04 TO 06   \n",
       "2  1990-01  ANG MO KIO    1 ROOM   309  ANG MO KIO AVE 1     10 TO 12   \n",
       "3  1990-01  ANG MO KIO    1 ROOM   309  ANG MO KIO AVE 1     07 TO 09   \n",
       "4  1990-01  ANG MO KIO    3 ROOM   216  ANG MO KIO AVE 1     04 TO 06   \n",
       "\n",
       "   floor_area_sqm      flat_model  lease_commence_date  resale_price  \n",
       "0            31.0        IMPROVED                 1977          9000  \n",
       "1            31.0        IMPROVED                 1977          6000  \n",
       "2            31.0        IMPROVED                 1977          8000  \n",
       "3            31.0        IMPROVED                 1977          6000  \n",
       "4            73.0  NEW GENERATION                 1976         47200  "
      ]
     },
     "execution_count": 9,
     "metadata": {},
     "output_type": "execute_result"
    }
   ],
   "source": [
    "rs_1 = pd.read_csv('C:/Users/david/DATA/HDB/1_1990-1999.csv')\n",
    "rs_1.head()"
   ]
  },
  {
   "cell_type": "code",
   "execution_count": 10,
   "id": "23542fc4",
   "metadata": {},
   "outputs": [
    {
     "data": {
      "text/html": [
       "<div>\n",
       "<style scoped>\n",
       "    .dataframe tbody tr th:only-of-type {\n",
       "        vertical-align: middle;\n",
       "    }\n",
       "\n",
       "    .dataframe tbody tr th {\n",
       "        vertical-align: top;\n",
       "    }\n",
       "\n",
       "    .dataframe thead th {\n",
       "        text-align: right;\n",
       "    }\n",
       "</style>\n",
       "<table border=\"1\" class=\"dataframe\">\n",
       "  <thead>\n",
       "    <tr style=\"text-align: right;\">\n",
       "      <th></th>\n",
       "      <th>month</th>\n",
       "      <th>town</th>\n",
       "      <th>flat_type</th>\n",
       "      <th>block</th>\n",
       "      <th>street_name</th>\n",
       "      <th>storey_range</th>\n",
       "      <th>floor_area_sqm</th>\n",
       "      <th>flat_model</th>\n",
       "      <th>lease_commence_date</th>\n",
       "      <th>resale_price</th>\n",
       "    </tr>\n",
       "  </thead>\n",
       "  <tbody>\n",
       "    <tr>\n",
       "      <th>287191</th>\n",
       "      <td>1999-12</td>\n",
       "      <td>YISHUN</td>\n",
       "      <td>EXECUTIVE</td>\n",
       "      <td>611</td>\n",
       "      <td>YISHUN ST 61</td>\n",
       "      <td>10 TO 12</td>\n",
       "      <td>142.0</td>\n",
       "      <td>APARTMENT</td>\n",
       "      <td>1987</td>\n",
       "      <td>456000</td>\n",
       "    </tr>\n",
       "    <tr>\n",
       "      <th>287192</th>\n",
       "      <td>1999-12</td>\n",
       "      <td>YISHUN</td>\n",
       "      <td>EXECUTIVE</td>\n",
       "      <td>324</td>\n",
       "      <td>YISHUN CTRL</td>\n",
       "      <td>01 TO 03</td>\n",
       "      <td>142.0</td>\n",
       "      <td>APARTMENT</td>\n",
       "      <td>1988</td>\n",
       "      <td>408000</td>\n",
       "    </tr>\n",
       "    <tr>\n",
       "      <th>287193</th>\n",
       "      <td>1999-12</td>\n",
       "      <td>YISHUN</td>\n",
       "      <td>EXECUTIVE</td>\n",
       "      <td>392</td>\n",
       "      <td>YISHUN AVE 6</td>\n",
       "      <td>07 TO 09</td>\n",
       "      <td>146.0</td>\n",
       "      <td>MAISONETTE</td>\n",
       "      <td>1988</td>\n",
       "      <td>469000</td>\n",
       "    </tr>\n",
       "    <tr>\n",
       "      <th>287194</th>\n",
       "      <td>1999-12</td>\n",
       "      <td>YISHUN</td>\n",
       "      <td>EXECUTIVE</td>\n",
       "      <td>356</td>\n",
       "      <td>YISHUN RING RD</td>\n",
       "      <td>04 TO 06</td>\n",
       "      <td>146.0</td>\n",
       "      <td>MAISONETTE</td>\n",
       "      <td>1988</td>\n",
       "      <td>440000</td>\n",
       "    </tr>\n",
       "    <tr>\n",
       "      <th>287195</th>\n",
       "      <td>1999-12</td>\n",
       "      <td>YISHUN</td>\n",
       "      <td>EXECUTIVE</td>\n",
       "      <td>358</td>\n",
       "      <td>YISHUN RING RD</td>\n",
       "      <td>01 TO 03</td>\n",
       "      <td>145.0</td>\n",
       "      <td>MAISONETTE</td>\n",
       "      <td>1988</td>\n",
       "      <td>484000</td>\n",
       "    </tr>\n",
       "  </tbody>\n",
       "</table>\n",
       "</div>"
      ],
      "text/plain": [
       "          month    town  flat_type block     street_name storey_range  \\\n",
       "287191  1999-12  YISHUN  EXECUTIVE   611    YISHUN ST 61     10 TO 12   \n",
       "287192  1999-12  YISHUN  EXECUTIVE   324     YISHUN CTRL     01 TO 03   \n",
       "287193  1999-12  YISHUN  EXECUTIVE   392    YISHUN AVE 6     07 TO 09   \n",
       "287194  1999-12  YISHUN  EXECUTIVE   356  YISHUN RING RD     04 TO 06   \n",
       "287195  1999-12  YISHUN  EXECUTIVE   358  YISHUN RING RD     01 TO 03   \n",
       "\n",
       "        floor_area_sqm  flat_model  lease_commence_date  resale_price  \n",
       "287191           142.0   APARTMENT                 1987        456000  \n",
       "287192           142.0   APARTMENT                 1988        408000  \n",
       "287193           146.0  MAISONETTE                 1988        469000  \n",
       "287194           146.0  MAISONETTE                 1988        440000  \n",
       "287195           145.0  MAISONETTE                 1988        484000  "
      ]
     },
     "execution_count": 10,
     "metadata": {},
     "output_type": "execute_result"
    }
   ],
   "source": [
    "rs_1.tail()"
   ]
  },
  {
   "cell_type": "code",
   "execution_count": 11,
   "id": "383339be",
   "metadata": {},
   "outputs": [
    {
     "data": {
      "text/plain": [
       "(287196, 10)"
      ]
     },
     "execution_count": 11,
     "metadata": {},
     "output_type": "execute_result"
    }
   ],
   "source": [
    "rs_1.shape"
   ]
  },
  {
   "cell_type": "code",
   "execution_count": 12,
   "id": "665664f5",
   "metadata": {},
   "outputs": [],
   "source": [
    "rs_2 = pd.read_csv('C:/Users/david/DATA/HDB/2_2000-feb-2012.csv')"
   ]
  },
  {
   "cell_type": "code",
   "execution_count": 13,
   "id": "5b87c837",
   "metadata": {
    "scrolled": true
   },
   "outputs": [
    {
     "data": {
      "text/html": [
       "<div>\n",
       "<style scoped>\n",
       "    .dataframe tbody tr th:only-of-type {\n",
       "        vertical-align: middle;\n",
       "    }\n",
       "\n",
       "    .dataframe tbody tr th {\n",
       "        vertical-align: top;\n",
       "    }\n",
       "\n",
       "    .dataframe thead th {\n",
       "        text-align: right;\n",
       "    }\n",
       "</style>\n",
       "<table border=\"1\" class=\"dataframe\">\n",
       "  <thead>\n",
       "    <tr style=\"text-align: right;\">\n",
       "      <th></th>\n",
       "      <th>month</th>\n",
       "      <th>town</th>\n",
       "      <th>flat_type</th>\n",
       "      <th>block</th>\n",
       "      <th>street_name</th>\n",
       "      <th>storey_range</th>\n",
       "      <th>floor_area_sqm</th>\n",
       "      <th>flat_model</th>\n",
       "      <th>lease_commence_date</th>\n",
       "      <th>resale_price</th>\n",
       "    </tr>\n",
       "  </thead>\n",
       "  <tbody>\n",
       "    <tr>\n",
       "      <th>0</th>\n",
       "      <td>2000-01</td>\n",
       "      <td>ANG MO KIO</td>\n",
       "      <td>3 ROOM</td>\n",
       "      <td>170</td>\n",
       "      <td>ANG MO KIO AVE 4</td>\n",
       "      <td>07 TO 09</td>\n",
       "      <td>69.0</td>\n",
       "      <td>Improved</td>\n",
       "      <td>1986</td>\n",
       "      <td>147000.0</td>\n",
       "    </tr>\n",
       "    <tr>\n",
       "      <th>1</th>\n",
       "      <td>2000-01</td>\n",
       "      <td>ANG MO KIO</td>\n",
       "      <td>3 ROOM</td>\n",
       "      <td>174</td>\n",
       "      <td>ANG MO KIO AVE 4</td>\n",
       "      <td>04 TO 06</td>\n",
       "      <td>61.0</td>\n",
       "      <td>Improved</td>\n",
       "      <td>1986</td>\n",
       "      <td>144000.0</td>\n",
       "    </tr>\n",
       "    <tr>\n",
       "      <th>2</th>\n",
       "      <td>2000-01</td>\n",
       "      <td>ANG MO KIO</td>\n",
       "      <td>3 ROOM</td>\n",
       "      <td>216</td>\n",
       "      <td>ANG MO KIO AVE 1</td>\n",
       "      <td>07 TO 09</td>\n",
       "      <td>73.0</td>\n",
       "      <td>New Generation</td>\n",
       "      <td>1976</td>\n",
       "      <td>159000.0</td>\n",
       "    </tr>\n",
       "    <tr>\n",
       "      <th>3</th>\n",
       "      <td>2000-01</td>\n",
       "      <td>ANG MO KIO</td>\n",
       "      <td>3 ROOM</td>\n",
       "      <td>215</td>\n",
       "      <td>ANG MO KIO AVE 1</td>\n",
       "      <td>07 TO 09</td>\n",
       "      <td>73.0</td>\n",
       "      <td>New Generation</td>\n",
       "      <td>1976</td>\n",
       "      <td>167000.0</td>\n",
       "    </tr>\n",
       "    <tr>\n",
       "      <th>4</th>\n",
       "      <td>2000-01</td>\n",
       "      <td>ANG MO KIO</td>\n",
       "      <td>3 ROOM</td>\n",
       "      <td>218</td>\n",
       "      <td>ANG MO KIO AVE 1</td>\n",
       "      <td>07 TO 09</td>\n",
       "      <td>67.0</td>\n",
       "      <td>New Generation</td>\n",
       "      <td>1976</td>\n",
       "      <td>163000.0</td>\n",
       "    </tr>\n",
       "  </tbody>\n",
       "</table>\n",
       "</div>"
      ],
      "text/plain": [
       "     month        town flat_type block       street_name storey_range  \\\n",
       "0  2000-01  ANG MO KIO    3 ROOM   170  ANG MO KIO AVE 4     07 TO 09   \n",
       "1  2000-01  ANG MO KIO    3 ROOM   174  ANG MO KIO AVE 4     04 TO 06   \n",
       "2  2000-01  ANG MO KIO    3 ROOM   216  ANG MO KIO AVE 1     07 TO 09   \n",
       "3  2000-01  ANG MO KIO    3 ROOM   215  ANG MO KIO AVE 1     07 TO 09   \n",
       "4  2000-01  ANG MO KIO    3 ROOM   218  ANG MO KIO AVE 1     07 TO 09   \n",
       "\n",
       "   floor_area_sqm      flat_model  lease_commence_date  resale_price  \n",
       "0            69.0        Improved                 1986      147000.0  \n",
       "1            61.0        Improved                 1986      144000.0  \n",
       "2            73.0  New Generation                 1976      159000.0  \n",
       "3            73.0  New Generation                 1976      167000.0  \n",
       "4            67.0  New Generation                 1976      163000.0  "
      ]
     },
     "execution_count": 13,
     "metadata": {},
     "output_type": "execute_result"
    }
   ],
   "source": [
    "rs_2.head()"
   ]
  },
  {
   "cell_type": "code",
   "execution_count": 14,
   "id": "f48cfe9b",
   "metadata": {
    "scrolled": false
   },
   "outputs": [
    {
     "data": {
      "text/html": [
       "<div>\n",
       "<style scoped>\n",
       "    .dataframe tbody tr th:only-of-type {\n",
       "        vertical-align: middle;\n",
       "    }\n",
       "\n",
       "    .dataframe tbody tr th {\n",
       "        vertical-align: top;\n",
       "    }\n",
       "\n",
       "    .dataframe thead th {\n",
       "        text-align: right;\n",
       "    }\n",
       "</style>\n",
       "<table border=\"1\" class=\"dataframe\">\n",
       "  <thead>\n",
       "    <tr style=\"text-align: right;\">\n",
       "      <th></th>\n",
       "      <th>month</th>\n",
       "      <th>town</th>\n",
       "      <th>flat_type</th>\n",
       "      <th>block</th>\n",
       "      <th>street_name</th>\n",
       "      <th>storey_range</th>\n",
       "      <th>floor_area_sqm</th>\n",
       "      <th>flat_model</th>\n",
       "      <th>lease_commence_date</th>\n",
       "      <th>resale_price</th>\n",
       "    </tr>\n",
       "  </thead>\n",
       "  <tbody>\n",
       "    <tr>\n",
       "      <th>369646</th>\n",
       "      <td>2012-02</td>\n",
       "      <td>YISHUN</td>\n",
       "      <td>5 ROOM</td>\n",
       "      <td>212</td>\n",
       "      <td>YISHUN ST 21</td>\n",
       "      <td>10 TO 12</td>\n",
       "      <td>121.0</td>\n",
       "      <td>Improved</td>\n",
       "      <td>1985</td>\n",
       "      <td>476888.0</td>\n",
       "    </tr>\n",
       "    <tr>\n",
       "      <th>369647</th>\n",
       "      <td>2012-02</td>\n",
       "      <td>YISHUN</td>\n",
       "      <td>5 ROOM</td>\n",
       "      <td>758</td>\n",
       "      <td>YISHUN ST 72</td>\n",
       "      <td>01 TO 03</td>\n",
       "      <td>122.0</td>\n",
       "      <td>Improved</td>\n",
       "      <td>1986</td>\n",
       "      <td>490000.0</td>\n",
       "    </tr>\n",
       "    <tr>\n",
       "      <th>369648</th>\n",
       "      <td>2012-02</td>\n",
       "      <td>YISHUN</td>\n",
       "      <td>5 ROOM</td>\n",
       "      <td>873</td>\n",
       "      <td>YISHUN ST 81</td>\n",
       "      <td>01 TO 03</td>\n",
       "      <td>122.0</td>\n",
       "      <td>Improved</td>\n",
       "      <td>1988</td>\n",
       "      <td>488000.0</td>\n",
       "    </tr>\n",
       "    <tr>\n",
       "      <th>369649</th>\n",
       "      <td>2012-02</td>\n",
       "      <td>YISHUN</td>\n",
       "      <td>EXECUTIVE</td>\n",
       "      <td>664</td>\n",
       "      <td>YISHUN AVE 4</td>\n",
       "      <td>07 TO 09</td>\n",
       "      <td>181.0</td>\n",
       "      <td>Apartment</td>\n",
       "      <td>1992</td>\n",
       "      <td>705000.0</td>\n",
       "    </tr>\n",
       "    <tr>\n",
       "      <th>369650</th>\n",
       "      <td>2012-02</td>\n",
       "      <td>YISHUN</td>\n",
       "      <td>EXECUTIVE</td>\n",
       "      <td>293</td>\n",
       "      <td>YISHUN ST 22</td>\n",
       "      <td>04 TO 06</td>\n",
       "      <td>163.0</td>\n",
       "      <td>Apartment</td>\n",
       "      <td>1992</td>\n",
       "      <td>630000.0</td>\n",
       "    </tr>\n",
       "  </tbody>\n",
       "</table>\n",
       "</div>"
      ],
      "text/plain": [
       "          month    town  flat_type block   street_name storey_range  \\\n",
       "369646  2012-02  YISHUN     5 ROOM   212  YISHUN ST 21     10 TO 12   \n",
       "369647  2012-02  YISHUN     5 ROOM   758  YISHUN ST 72     01 TO 03   \n",
       "369648  2012-02  YISHUN     5 ROOM   873  YISHUN ST 81     01 TO 03   \n",
       "369649  2012-02  YISHUN  EXECUTIVE   664  YISHUN AVE 4     07 TO 09   \n",
       "369650  2012-02  YISHUN  EXECUTIVE   293  YISHUN ST 22     04 TO 06   \n",
       "\n",
       "        floor_area_sqm flat_model  lease_commence_date  resale_price  \n",
       "369646           121.0   Improved                 1985      476888.0  \n",
       "369647           122.0   Improved                 1986      490000.0  \n",
       "369648           122.0   Improved                 1988      488000.0  \n",
       "369649           181.0  Apartment                 1992      705000.0  \n",
       "369650           163.0  Apartment                 1992      630000.0  "
      ]
     },
     "execution_count": 14,
     "metadata": {},
     "output_type": "execute_result"
    }
   ],
   "source": [
    "rs_2.tail()"
   ]
  },
  {
   "cell_type": "code",
   "execution_count": 15,
   "id": "92156832",
   "metadata": {
    "scrolled": true
   },
   "outputs": [
    {
     "data": {
      "text/plain": [
       "(369651, 10)"
      ]
     },
     "execution_count": 15,
     "metadata": {},
     "output_type": "execute_result"
    }
   ],
   "source": [
    "rs_2.shape"
   ]
  },
  {
   "cell_type": "code",
   "execution_count": 16,
   "id": "2d1130ca",
   "metadata": {
    "scrolled": true
   },
   "outputs": [
    {
     "data": {
      "text/plain": [
       "<bound method DataFrame.info of           month        town  flat_type block       street_name storey_range  \\\n",
       "0       2000-01  ANG MO KIO     3 ROOM   170  ANG MO KIO AVE 4     07 TO 09   \n",
       "1       2000-01  ANG MO KIO     3 ROOM   174  ANG MO KIO AVE 4     04 TO 06   \n",
       "2       2000-01  ANG MO KIO     3 ROOM   216  ANG MO KIO AVE 1     07 TO 09   \n",
       "3       2000-01  ANG MO KIO     3 ROOM   215  ANG MO KIO AVE 1     07 TO 09   \n",
       "4       2000-01  ANG MO KIO     3 ROOM   218  ANG MO KIO AVE 1     07 TO 09   \n",
       "...         ...         ...        ...   ...               ...          ...   \n",
       "369646  2012-02      YISHUN     5 ROOM   212      YISHUN ST 21     10 TO 12   \n",
       "369647  2012-02      YISHUN     5 ROOM   758      YISHUN ST 72     01 TO 03   \n",
       "369648  2012-02      YISHUN     5 ROOM   873      YISHUN ST 81     01 TO 03   \n",
       "369649  2012-02      YISHUN  EXECUTIVE   664      YISHUN AVE 4     07 TO 09   \n",
       "369650  2012-02      YISHUN  EXECUTIVE   293      YISHUN ST 22     04 TO 06   \n",
       "\n",
       "        floor_area_sqm      flat_model  lease_commence_date  resale_price  \n",
       "0                 69.0        Improved                 1986      147000.0  \n",
       "1                 61.0        Improved                 1986      144000.0  \n",
       "2                 73.0  New Generation                 1976      159000.0  \n",
       "3                 73.0  New Generation                 1976      167000.0  \n",
       "4                 67.0  New Generation                 1976      163000.0  \n",
       "...                ...             ...                  ...           ...  \n",
       "369646           121.0        Improved                 1985      476888.0  \n",
       "369647           122.0        Improved                 1986      490000.0  \n",
       "369648           122.0        Improved                 1988      488000.0  \n",
       "369649           181.0       Apartment                 1992      705000.0  \n",
       "369650           163.0       Apartment                 1992      630000.0  \n",
       "\n",
       "[369651 rows x 10 columns]>"
      ]
     },
     "execution_count": 16,
     "metadata": {},
     "output_type": "execute_result"
    }
   ],
   "source": [
    "# info index datatypes memory\n",
    "rs_2.info\n"
   ]
  },
  {
   "cell_type": "code",
   "execution_count": 17,
   "id": "6f4f8ed3",
   "metadata": {
    "scrolled": true
   },
   "outputs": [
    {
     "data": {
      "text/plain": [
       "month                   object\n",
       "town                    object\n",
       "flat_type               object\n",
       "block                   object\n",
       "street_name             object\n",
       "storey_range            object\n",
       "floor_area_sqm         float64\n",
       "flat_model              object\n",
       "lease_commence_date      int64\n",
       "resale_price           float64\n",
       "dtype: object"
      ]
     },
     "execution_count": 17,
     "metadata": {},
     "output_type": "execute_result"
    }
   ],
   "source": [
    "rs_2.dtypes"
   ]
  },
  {
   "cell_type": "code",
   "execution_count": 18,
   "id": "50a17284",
   "metadata": {
    "scrolled": true
   },
   "outputs": [
    {
     "data": {
      "text/plain": [
       "<bound method NDFrame.describe of           month        town  flat_type block       street_name storey_range  \\\n",
       "0       2000-01  ANG MO KIO     3 ROOM   170  ANG MO KIO AVE 4     07 TO 09   \n",
       "1       2000-01  ANG MO KIO     3 ROOM   174  ANG MO KIO AVE 4     04 TO 06   \n",
       "2       2000-01  ANG MO KIO     3 ROOM   216  ANG MO KIO AVE 1     07 TO 09   \n",
       "3       2000-01  ANG MO KIO     3 ROOM   215  ANG MO KIO AVE 1     07 TO 09   \n",
       "4       2000-01  ANG MO KIO     3 ROOM   218  ANG MO KIO AVE 1     07 TO 09   \n",
       "...         ...         ...        ...   ...               ...          ...   \n",
       "369646  2012-02      YISHUN     5 ROOM   212      YISHUN ST 21     10 TO 12   \n",
       "369647  2012-02      YISHUN     5 ROOM   758      YISHUN ST 72     01 TO 03   \n",
       "369648  2012-02      YISHUN     5 ROOM   873      YISHUN ST 81     01 TO 03   \n",
       "369649  2012-02      YISHUN  EXECUTIVE   664      YISHUN AVE 4     07 TO 09   \n",
       "369650  2012-02      YISHUN  EXECUTIVE   293      YISHUN ST 22     04 TO 06   \n",
       "\n",
       "        floor_area_sqm      flat_model  lease_commence_date  resale_price  \n",
       "0                 69.0        Improved                 1986      147000.0  \n",
       "1                 61.0        Improved                 1986      144000.0  \n",
       "2                 73.0  New Generation                 1976      159000.0  \n",
       "3                 73.0  New Generation                 1976      167000.0  \n",
       "4                 67.0  New Generation                 1976      163000.0  \n",
       "...                ...             ...                  ...           ...  \n",
       "369646           121.0        Improved                 1985      476888.0  \n",
       "369647           122.0        Improved                 1986      490000.0  \n",
       "369648           122.0        Improved                 1988      488000.0  \n",
       "369649           181.0       Apartment                 1992      705000.0  \n",
       "369650           163.0       Apartment                 1992      630000.0  \n",
       "\n",
       "[369651 rows x 10 columns]>"
      ]
     },
     "execution_count": 18,
     "metadata": {},
     "output_type": "execute_result"
    }
   ],
   "source": [
    "rs_2.describe"
   ]
  },
  {
   "cell_type": "code",
   "execution_count": 19,
   "id": "d9f29e8d",
   "metadata": {},
   "outputs": [
    {
     "data": {
      "text/plain": [
       "Index(['month', 'town', 'flat_type', 'block', 'street_name', 'storey_range',\n",
       "       'floor_area_sqm', 'flat_model', 'lease_commence_date', 'resale_price'],\n",
       "      dtype='object')"
      ]
     },
     "execution_count": 19,
     "metadata": {},
     "output_type": "execute_result"
    }
   ],
   "source": [
    "rs_2.columns"
   ]
  },
  {
   "cell_type": "code",
   "execution_count": 20,
   "id": "a5db565e",
   "metadata": {},
   "outputs": [
    {
     "data": {
      "text/plain": [
       "RangeIndex(start=0, stop=369651, step=1)"
      ]
     },
     "execution_count": 20,
     "metadata": {},
     "output_type": "execute_result"
    }
   ],
   "source": [
    "rs_2.index"
   ]
  },
  {
   "cell_type": "code",
   "execution_count": 21,
   "id": "13029063",
   "metadata": {},
   "outputs": [
    {
     "data": {
      "text/plain": [
       "month                   146\n",
       "town                     26\n",
       "flat_type                 7\n",
       "block                  1991\n",
       "street_name             523\n",
       "storey_range             14\n",
       "floor_area_sqm          189\n",
       "flat_model               16\n",
       "lease_commence_date      46\n",
       "resale_price           5615\n",
       "dtype: int64"
      ]
     },
     "execution_count": 21,
     "metadata": {},
     "output_type": "execute_result"
    }
   ],
   "source": [
    "rs_2.nunique()"
   ]
  },
  {
   "cell_type": "code",
   "execution_count": 22,
   "id": "3562df4b",
   "metadata": {},
   "outputs": [
    {
     "name": "stdout",
     "output_type": "stream",
     "text": [
      "               town  flat_type block       street_name storey_range  \\\n",
      "month                                                                 \n",
      "1990-01  ANG MO KIO     1 ROOM   309  ANG MO KIO AVE 1     10 TO 12   \n",
      "1990-01  ANG MO KIO     1 ROOM   309  ANG MO KIO AVE 1     04 TO 06   \n",
      "1990-01  ANG MO KIO     1 ROOM   309  ANG MO KIO AVE 1     10 TO 12   \n",
      "1990-01  ANG MO KIO     1 ROOM   309  ANG MO KIO AVE 1     07 TO 09   \n",
      "1990-01  ANG MO KIO     3 ROOM   216  ANG MO KIO AVE 1     04 TO 06   \n",
      "...             ...        ...   ...               ...          ...   \n",
      "1999-12      YISHUN  EXECUTIVE   611      YISHUN ST 61     10 TO 12   \n",
      "1999-12      YISHUN  EXECUTIVE   324       YISHUN CTRL     01 TO 03   \n",
      "1999-12      YISHUN  EXECUTIVE   392      YISHUN AVE 6     07 TO 09   \n",
      "1999-12      YISHUN  EXECUTIVE   356    YISHUN RING RD     04 TO 06   \n",
      "1999-12      YISHUN  EXECUTIVE   358    YISHUN RING RD     01 TO 03   \n",
      "\n",
      "         floor_area_sqm      flat_model  lease_commence_date  resale_price  \n",
      "month                                                                       \n",
      "1990-01            31.0        IMPROVED                 1977          9000  \n",
      "1990-01            31.0        IMPROVED                 1977          6000  \n",
      "1990-01            31.0        IMPROVED                 1977          8000  \n",
      "1990-01            31.0        IMPROVED                 1977          6000  \n",
      "1990-01            73.0  NEW GENERATION                 1976         47200  \n",
      "...                 ...             ...                  ...           ...  \n",
      "1999-12           142.0       APARTMENT                 1987        456000  \n",
      "1999-12           142.0       APARTMENT                 1988        408000  \n",
      "1999-12           146.0      MAISONETTE                 1988        469000  \n",
      "1999-12           146.0      MAISONETTE                 1988        440000  \n",
      "1999-12           145.0      MAISONETTE                 1988        484000  \n",
      "\n",
      "[287196 rows x 9 columns]\n"
     ]
    }
   ],
   "source": [
    "# index col\n",
    "# location_1 = r'C:/Users/david/DATA/HDB/1_1990-1999.csv'\n",
    "\n",
    "location_1 = r'C:/Users/david/DATA/HDB/1_1990-1999.csv'\n",
    "rs_1 = pd.read_csv(location_1, index_col = 0)\n",
    "print(rs_1)"
   ]
  },
  {
   "cell_type": "code",
   "execution_count": 23,
   "id": "d11b679e",
   "metadata": {},
   "outputs": [
    {
     "name": "stdout",
     "output_type": "stream",
     "text": [
      "               town  flat_type block       street_name storey_range  \\\n",
      "month                                                                 \n",
      "2000-01  ANG MO KIO     3 ROOM   170  ANG MO KIO AVE 4     07 TO 09   \n",
      "2000-01  ANG MO KIO     3 ROOM   174  ANG MO KIO AVE 4     04 TO 06   \n",
      "2000-01  ANG MO KIO     3 ROOM   216  ANG MO KIO AVE 1     07 TO 09   \n",
      "2000-01  ANG MO KIO     3 ROOM   215  ANG MO KIO AVE 1     07 TO 09   \n",
      "2000-01  ANG MO KIO     3 ROOM   218  ANG MO KIO AVE 1     07 TO 09   \n",
      "...             ...        ...   ...               ...          ...   \n",
      "2012-02      YISHUN     5 ROOM   212      YISHUN ST 21     10 TO 12   \n",
      "2012-02      YISHUN     5 ROOM   758      YISHUN ST 72     01 TO 03   \n",
      "2012-02      YISHUN     5 ROOM   873      YISHUN ST 81     01 TO 03   \n",
      "2012-02      YISHUN  EXECUTIVE   664      YISHUN AVE 4     07 TO 09   \n",
      "2012-02      YISHUN  EXECUTIVE   293      YISHUN ST 22     04 TO 06   \n",
      "\n",
      "         floor_area_sqm      flat_model  lease_commence_date  resale_price  \n",
      "month                                                                       \n",
      "2000-01            69.0        Improved                 1986      147000.0  \n",
      "2000-01            61.0        Improved                 1986      144000.0  \n",
      "2000-01            73.0  New Generation                 1976      159000.0  \n",
      "2000-01            73.0  New Generation                 1976      167000.0  \n",
      "2000-01            67.0  New Generation                 1976      163000.0  \n",
      "...                 ...             ...                  ...           ...  \n",
      "2012-02           121.0        Improved                 1985      476888.0  \n",
      "2012-02           122.0        Improved                 1986      490000.0  \n",
      "2012-02           122.0        Improved                 1988      488000.0  \n",
      "2012-02           181.0       Apartment                 1992      705000.0  \n",
      "2012-02           163.0       Apartment                 1992      630000.0  \n",
      "\n",
      "[369651 rows x 9 columns]\n"
     ]
    }
   ],
   "source": [
    "location_2 = r'C:/Users/david/DATA/HDB/2_2000-feb-2012.csv'\n",
    "rs_2 = pd.read_csv(location_2, index_col = 0)\n",
    "print(rs_2)"
   ]
  },
  {
   "cell_type": "code",
   "execution_count": 24,
   "id": "9c8a9be2",
   "metadata": {},
   "outputs": [
    {
     "name": "stdout",
     "output_type": "stream",
     "text": [
      "               town  flat_type block        street_name storey_range  \\\n",
      "month                                                                  \n",
      "2012-03  ANG MO KIO     2 ROOM   172   ANG MO KIO AVE 4     06 TO 10   \n",
      "2012-03  ANG MO KIO     2 ROOM   510   ANG MO KIO AVE 8     01 TO 05   \n",
      "2012-03  ANG MO KIO     3 ROOM   610   ANG MO KIO AVE 4     06 TO 10   \n",
      "2012-03  ANG MO KIO     3 ROOM   474  ANG MO KIO AVE 10     01 TO 05   \n",
      "2012-03  ANG MO KIO     3 ROOM   604   ANG MO KIO AVE 5     06 TO 10   \n",
      "...             ...        ...   ...                ...          ...   \n",
      "2014-12      YISHUN     5 ROOM   816       YISHUN ST 81     10 TO 12   \n",
      "2014-12      YISHUN  EXECUTIVE   325        YISHUN CTRL     10 TO 12   \n",
      "2014-12      YISHUN  EXECUTIVE   618     YISHUN RING RD     07 TO 09   \n",
      "2014-12      YISHUN  EXECUTIVE   277       YISHUN ST 22     07 TO 09   \n",
      "2014-12      YISHUN  EXECUTIVE   277       YISHUN ST 22     04 TO 06   \n",
      "\n",
      "         floor_area_sqm      flat_model  lease_commence_date  resale_price  \n",
      "month                                                                       \n",
      "2012-03            45.0        Improved                 1986      250000.0  \n",
      "2012-03            44.0        Improved                 1980      265000.0  \n",
      "2012-03            68.0  New Generation                 1980      315000.0  \n",
      "2012-03            67.0  New Generation                 1984      320000.0  \n",
      "2012-03            67.0  New Generation                 1980      321000.0  \n",
      "...                 ...             ...                  ...           ...  \n",
      "2014-12           122.0        Improved                 1988      580000.0  \n",
      "2014-12           146.0      Maisonette                 1988      540000.0  \n",
      "2014-12           164.0       Apartment                 1992      738000.0  \n",
      "2014-12           152.0      Maisonette                 1985      592000.0  \n",
      "2014-12           146.0      Maisonette                 1985      545000.0  \n",
      "\n",
      "[52203 rows x 9 columns]\n"
     ]
    }
   ],
   "source": [
    "location_3 = r'C:/Users/david/DATA/HDB/3_mar-2012-to-dec-2014.csv'\n",
    "rs_3 = pd.read_csv(\"C:/Users/david/DATA/HDB/3_mar-2012-to-dec-2014.csv\", index_col = 0)\n",
    "print(rs_3)"
   ]
  },
  {
   "cell_type": "code",
   "execution_count": 25,
   "id": "b22d3399",
   "metadata": {},
   "outputs": [
    {
     "name": "stdout",
     "output_type": "stream",
     "text": [
      "<class 'pandas.core.frame.DataFrame'>\n",
      "Index: 52203 entries, 2012-03 to 2014-12\n",
      "Data columns (total 9 columns):\n",
      " #   Column               Non-Null Count  Dtype  \n",
      "---  ------               --------------  -----  \n",
      " 0   town                 52203 non-null  object \n",
      " 1   flat_type            52203 non-null  object \n",
      " 2   block                52203 non-null  object \n",
      " 3   street_name          52203 non-null  object \n",
      " 4   storey_range         52203 non-null  object \n",
      " 5   floor_area_sqm       52203 non-null  float64\n",
      " 6   flat_model           52203 non-null  object \n",
      " 7   lease_commence_date  52203 non-null  int64  \n",
      " 8   resale_price         52203 non-null  float64\n",
      "dtypes: float64(2), int64(1), object(6)\n",
      "memory usage: 4.0+ MB\n"
     ]
    }
   ],
   "source": [
    "rs_3.info()"
   ]
  },
  {
   "cell_type": "code",
   "execution_count": 26,
   "id": "7a866f27",
   "metadata": {},
   "outputs": [
    {
     "data": {
      "text/html": [
       "<div>\n",
       "<style scoped>\n",
       "    .dataframe tbody tr th:only-of-type {\n",
       "        vertical-align: middle;\n",
       "    }\n",
       "\n",
       "    .dataframe tbody tr th {\n",
       "        vertical-align: top;\n",
       "    }\n",
       "\n",
       "    .dataframe thead th {\n",
       "        text-align: right;\n",
       "    }\n",
       "</style>\n",
       "<table border=\"1\" class=\"dataframe\">\n",
       "  <thead>\n",
       "    <tr style=\"text-align: right;\">\n",
       "      <th></th>\n",
       "      <th>town</th>\n",
       "      <th>flat_type</th>\n",
       "      <th>block</th>\n",
       "      <th>street_name</th>\n",
       "      <th>storey_range</th>\n",
       "      <th>floor_area_sqm</th>\n",
       "      <th>flat_model</th>\n",
       "      <th>lease_commence_date</th>\n",
       "      <th>resale_price</th>\n",
       "    </tr>\n",
       "    <tr>\n",
       "      <th>month</th>\n",
       "      <th></th>\n",
       "      <th></th>\n",
       "      <th></th>\n",
       "      <th></th>\n",
       "      <th></th>\n",
       "      <th></th>\n",
       "      <th></th>\n",
       "      <th></th>\n",
       "      <th></th>\n",
       "    </tr>\n",
       "  </thead>\n",
       "  <tbody>\n",
       "    <tr>\n",
       "      <th>2014-12</th>\n",
       "      <td>YISHUN</td>\n",
       "      <td>5 ROOM</td>\n",
       "      <td>816</td>\n",
       "      <td>YISHUN ST 81</td>\n",
       "      <td>10 TO 12</td>\n",
       "      <td>122.0</td>\n",
       "      <td>Improved</td>\n",
       "      <td>1988</td>\n",
       "      <td>580000.0</td>\n",
       "    </tr>\n",
       "    <tr>\n",
       "      <th>2014-12</th>\n",
       "      <td>YISHUN</td>\n",
       "      <td>EXECUTIVE</td>\n",
       "      <td>325</td>\n",
       "      <td>YISHUN CTRL</td>\n",
       "      <td>10 TO 12</td>\n",
       "      <td>146.0</td>\n",
       "      <td>Maisonette</td>\n",
       "      <td>1988</td>\n",
       "      <td>540000.0</td>\n",
       "    </tr>\n",
       "    <tr>\n",
       "      <th>2014-12</th>\n",
       "      <td>YISHUN</td>\n",
       "      <td>EXECUTIVE</td>\n",
       "      <td>618</td>\n",
       "      <td>YISHUN RING RD</td>\n",
       "      <td>07 TO 09</td>\n",
       "      <td>164.0</td>\n",
       "      <td>Apartment</td>\n",
       "      <td>1992</td>\n",
       "      <td>738000.0</td>\n",
       "    </tr>\n",
       "    <tr>\n",
       "      <th>2014-12</th>\n",
       "      <td>YISHUN</td>\n",
       "      <td>EXECUTIVE</td>\n",
       "      <td>277</td>\n",
       "      <td>YISHUN ST 22</td>\n",
       "      <td>07 TO 09</td>\n",
       "      <td>152.0</td>\n",
       "      <td>Maisonette</td>\n",
       "      <td>1985</td>\n",
       "      <td>592000.0</td>\n",
       "    </tr>\n",
       "    <tr>\n",
       "      <th>2014-12</th>\n",
       "      <td>YISHUN</td>\n",
       "      <td>EXECUTIVE</td>\n",
       "      <td>277</td>\n",
       "      <td>YISHUN ST 22</td>\n",
       "      <td>04 TO 06</td>\n",
       "      <td>146.0</td>\n",
       "      <td>Maisonette</td>\n",
       "      <td>1985</td>\n",
       "      <td>545000.0</td>\n",
       "    </tr>\n",
       "  </tbody>\n",
       "</table>\n",
       "</div>"
      ],
      "text/plain": [
       "           town  flat_type block     street_name storey_range  floor_area_sqm  \\\n",
       "month                                                                           \n",
       "2014-12  YISHUN     5 ROOM   816    YISHUN ST 81     10 TO 12           122.0   \n",
       "2014-12  YISHUN  EXECUTIVE   325     YISHUN CTRL     10 TO 12           146.0   \n",
       "2014-12  YISHUN  EXECUTIVE   618  YISHUN RING RD     07 TO 09           164.0   \n",
       "2014-12  YISHUN  EXECUTIVE   277    YISHUN ST 22     07 TO 09           152.0   \n",
       "2014-12  YISHUN  EXECUTIVE   277    YISHUN ST 22     04 TO 06           146.0   \n",
       "\n",
       "         flat_model  lease_commence_date  resale_price  \n",
       "month                                                   \n",
       "2014-12    Improved                 1988      580000.0  \n",
       "2014-12  Maisonette                 1988      540000.0  \n",
       "2014-12   Apartment                 1992      738000.0  \n",
       "2014-12  Maisonette                 1985      592000.0  \n",
       "2014-12  Maisonette                 1985      545000.0  "
      ]
     },
     "execution_count": 26,
     "metadata": {},
     "output_type": "execute_result"
    }
   ],
   "source": [
    "rs_3.tail()"
   ]
  },
  {
   "cell_type": "code",
   "execution_count": 27,
   "id": "5787d136",
   "metadata": {},
   "outputs": [
    {
     "data": {
      "text/plain": [
       "(52203, 9)"
      ]
     },
     "execution_count": 27,
     "metadata": {},
     "output_type": "execute_result"
    }
   ],
   "source": [
    "rs_3.shape"
   ]
  },
  {
   "cell_type": "code",
   "execution_count": 28,
   "id": "ee991d76",
   "metadata": {},
   "outputs": [
    {
     "data": {
      "text/plain": [
       "(37153, 10)"
      ]
     },
     "execution_count": 28,
     "metadata": {},
     "output_type": "execute_result"
    }
   ],
   "source": [
    "rs_4 = pd.read_csv(\"C:/Users/david/DATA/HDB/4_jan-2015-to-dec-2016.csv\", index_col = 0)\n",
    "rs_4.shape"
   ]
  },
  {
   "cell_type": "code",
   "execution_count": 29,
   "id": "5afda0d2",
   "metadata": {},
   "outputs": [
    {
     "data": {
      "text/html": [
       "<div>\n",
       "<style scoped>\n",
       "    .dataframe tbody tr th:only-of-type {\n",
       "        vertical-align: middle;\n",
       "    }\n",
       "\n",
       "    .dataframe tbody tr th {\n",
       "        vertical-align: top;\n",
       "    }\n",
       "\n",
       "    .dataframe thead th {\n",
       "        text-align: right;\n",
       "    }\n",
       "</style>\n",
       "<table border=\"1\" class=\"dataframe\">\n",
       "  <thead>\n",
       "    <tr style=\"text-align: right;\">\n",
       "      <th></th>\n",
       "      <th>town</th>\n",
       "      <th>flat_type</th>\n",
       "      <th>block</th>\n",
       "      <th>street_name</th>\n",
       "      <th>storey_range</th>\n",
       "      <th>floor_area_sqm</th>\n",
       "      <th>flat_model</th>\n",
       "      <th>lease_commence_date</th>\n",
       "      <th>remaining_lease</th>\n",
       "      <th>resale_price</th>\n",
       "    </tr>\n",
       "    <tr>\n",
       "      <th>month</th>\n",
       "      <th></th>\n",
       "      <th></th>\n",
       "      <th></th>\n",
       "      <th></th>\n",
       "      <th></th>\n",
       "      <th></th>\n",
       "      <th></th>\n",
       "      <th></th>\n",
       "      <th></th>\n",
       "      <th></th>\n",
       "    </tr>\n",
       "  </thead>\n",
       "  <tbody>\n",
       "    <tr>\n",
       "      <th>2016-12</th>\n",
       "      <td>YISHUN</td>\n",
       "      <td>5 ROOM</td>\n",
       "      <td>297</td>\n",
       "      <td>YISHUN ST 20</td>\n",
       "      <td>13 TO 15</td>\n",
       "      <td>112.0</td>\n",
       "      <td>Improved</td>\n",
       "      <td>2000</td>\n",
       "      <td>82</td>\n",
       "      <td>488000.0</td>\n",
       "    </tr>\n",
       "    <tr>\n",
       "      <th>2016-12</th>\n",
       "      <td>YISHUN</td>\n",
       "      <td>5 ROOM</td>\n",
       "      <td>838</td>\n",
       "      <td>YISHUN ST 81</td>\n",
       "      <td>01 TO 03</td>\n",
       "      <td>122.0</td>\n",
       "      <td>Improved</td>\n",
       "      <td>1987</td>\n",
       "      <td>69</td>\n",
       "      <td>455000.0</td>\n",
       "    </tr>\n",
       "    <tr>\n",
       "      <th>2016-12</th>\n",
       "      <td>YISHUN</td>\n",
       "      <td>EXECUTIVE</td>\n",
       "      <td>664</td>\n",
       "      <td>YISHUN AVE 4</td>\n",
       "      <td>10 TO 12</td>\n",
       "      <td>181.0</td>\n",
       "      <td>Apartment</td>\n",
       "      <td>1992</td>\n",
       "      <td>74</td>\n",
       "      <td>778000.0</td>\n",
       "    </tr>\n",
       "    <tr>\n",
       "      <th>2016-12</th>\n",
       "      <td>YISHUN</td>\n",
       "      <td>EXECUTIVE</td>\n",
       "      <td>325</td>\n",
       "      <td>YISHUN CTRL</td>\n",
       "      <td>01 TO 03</td>\n",
       "      <td>146.0</td>\n",
       "      <td>Maisonette</td>\n",
       "      <td>1988</td>\n",
       "      <td>70</td>\n",
       "      <td>575000.0</td>\n",
       "    </tr>\n",
       "    <tr>\n",
       "      <th>2016-12</th>\n",
       "      <td>YISHUN</td>\n",
       "      <td>MULTI-GENERATION</td>\n",
       "      <td>666</td>\n",
       "      <td>YISHUN AVE 4</td>\n",
       "      <td>10 TO 12</td>\n",
       "      <td>164.0</td>\n",
       "      <td>Multi Generation</td>\n",
       "      <td>1987</td>\n",
       "      <td>70</td>\n",
       "      <td>735000.0</td>\n",
       "    </tr>\n",
       "  </tbody>\n",
       "</table>\n",
       "</div>"
      ],
      "text/plain": [
       "           town         flat_type block   street_name storey_range  \\\n",
       "month                                                                \n",
       "2016-12  YISHUN            5 ROOM   297  YISHUN ST 20     13 TO 15   \n",
       "2016-12  YISHUN            5 ROOM   838  YISHUN ST 81     01 TO 03   \n",
       "2016-12  YISHUN         EXECUTIVE   664  YISHUN AVE 4     10 TO 12   \n",
       "2016-12  YISHUN         EXECUTIVE   325   YISHUN CTRL     01 TO 03   \n",
       "2016-12  YISHUN  MULTI-GENERATION   666  YISHUN AVE 4     10 TO 12   \n",
       "\n",
       "         floor_area_sqm        flat_model  lease_commence_date  \\\n",
       "month                                                            \n",
       "2016-12           112.0          Improved                 2000   \n",
       "2016-12           122.0          Improved                 1987   \n",
       "2016-12           181.0         Apartment                 1992   \n",
       "2016-12           146.0        Maisonette                 1988   \n",
       "2016-12           164.0  Multi Generation                 1987   \n",
       "\n",
       "         remaining_lease  resale_price  \n",
       "month                                   \n",
       "2016-12               82      488000.0  \n",
       "2016-12               69      455000.0  \n",
       "2016-12               74      778000.0  \n",
       "2016-12               70      575000.0  \n",
       "2016-12               70      735000.0  "
      ]
     },
     "execution_count": 29,
     "metadata": {},
     "output_type": "execute_result"
    }
   ],
   "source": [
    "rs_4.tail()"
   ]
  },
  {
   "cell_type": "code",
   "execution_count": 30,
   "id": "dfb3e8cd",
   "metadata": {},
   "outputs": [
    {
     "name": "stdout",
     "output_type": "stream",
     "text": [
      "               town         flat_type block        street_name storey_range  \\\n",
      "month                                                                         \n",
      "2015-01  ANG MO KIO            3 ROOM   174   ANG MO KIO AVE 4     07 TO 09   \n",
      "2015-01  ANG MO KIO            3 ROOM   541  ANG MO KIO AVE 10     01 TO 03   \n",
      "2015-01  ANG MO KIO            3 ROOM   163   ANG MO KIO AVE 4     01 TO 03   \n",
      "2015-01  ANG MO KIO            3 ROOM   446  ANG MO KIO AVE 10     01 TO 03   \n",
      "2015-01  ANG MO KIO            3 ROOM   557  ANG MO KIO AVE 10     07 TO 09   \n",
      "...             ...               ...   ...                ...          ...   \n",
      "2016-12      YISHUN            5 ROOM   297       YISHUN ST 20     13 TO 15   \n",
      "2016-12      YISHUN            5 ROOM   838       YISHUN ST 81     01 TO 03   \n",
      "2016-12      YISHUN         EXECUTIVE   664       YISHUN AVE 4     10 TO 12   \n",
      "2016-12      YISHUN         EXECUTIVE   325        YISHUN CTRL     01 TO 03   \n",
      "2016-12      YISHUN  MULTI-GENERATION   666       YISHUN AVE 4     10 TO 12   \n",
      "\n",
      "         floor_area_sqm        flat_model  lease_commence_date  \\\n",
      "month                                                            \n",
      "2015-01            60.0          Improved                 1986   \n",
      "2015-01            68.0    New Generation                 1981   \n",
      "2015-01            69.0    New Generation                 1980   \n",
      "2015-01            68.0    New Generation                 1979   \n",
      "2015-01            68.0    New Generation                 1980   \n",
      "...                 ...               ...                  ...   \n",
      "2016-12           112.0          Improved                 2000   \n",
      "2016-12           122.0          Improved                 1987   \n",
      "2016-12           181.0         Apartment                 1992   \n",
      "2016-12           146.0        Maisonette                 1988   \n",
      "2016-12           164.0  Multi Generation                 1987   \n",
      "\n",
      "         remaining_lease  resale_price  \n",
      "month                                   \n",
      "2015-01               70      255000.0  \n",
      "2015-01               65      275000.0  \n",
      "2015-01               64      285000.0  \n",
      "2015-01               63      290000.0  \n",
      "2015-01               64      290000.0  \n",
      "...                  ...           ...  \n",
      "2016-12               82      488000.0  \n",
      "2016-12               69      455000.0  \n",
      "2016-12               74      778000.0  \n",
      "2016-12               70      575000.0  \n",
      "2016-12               70      735000.0  \n",
      "\n",
      "[37153 rows x 10 columns]\n"
     ]
    }
   ],
   "source": [
    "print(rs_4) # 10 columns lease remaining"
   ]
  },
  {
   "cell_type": "code",
   "execution_count": 31,
   "id": "8266b028",
   "metadata": {},
   "outputs": [
    {
     "data": {
      "text/plain": [
       "(100225, 10)"
      ]
     },
     "execution_count": 31,
     "metadata": {},
     "output_type": "execute_result"
    }
   ],
   "source": [
    "rs_5 = pd.read_csv(\"C:/Users/david/DATA/HDB/5_jan-2017-onwards.csv\", index_col = 0)\n",
    "rs_5.shape\n"
   ]
  },
  {
   "cell_type": "code",
   "execution_count": 32,
   "id": "94d917c1",
   "metadata": {},
   "outputs": [
    {
     "name": "stdout",
     "output_type": "stream",
     "text": [
      "               town  flat_type block        street_name storey_range  \\\n",
      "month                                                                  \n",
      "2017-01  ANG MO KIO     2 ROOM   406  ANG MO KIO AVE 10     10 TO 12   \n",
      "2017-01  ANG MO KIO     3 ROOM   108   ANG MO KIO AVE 4     01 TO 03   \n",
      "2017-01  ANG MO KIO     3 ROOM   602   ANG MO KIO AVE 5     01 TO 03   \n",
      "2017-01  ANG MO KIO     3 ROOM   465  ANG MO KIO AVE 10     04 TO 06   \n",
      "2017-01  ANG MO KIO     3 ROOM   601   ANG MO KIO AVE 5     01 TO 03   \n",
      "...             ...        ...   ...                ...          ...   \n",
      "2021-06      YISHUN     5 ROOM  505C       YISHUN ST 51     10 TO 12   \n",
      "2021-06      YISHUN  EXECUTIVE   664       YISHUN AVE 4     01 TO 03   \n",
      "2021-06      YISHUN  EXECUTIVE   277       YISHUN ST 22     01 TO 03   \n",
      "2021-06      YISHUN  EXECUTIVE   643       YISHUN ST 61     01 TO 03   \n",
      "2021-06      YISHUN  EXECUTIVE   828       YISHUN ST 81     04 TO 06   \n",
      "\n",
      "         floor_area_sqm      flat_model  lease_commence_date  \\\n",
      "month                                                          \n",
      "2017-01            44.0        Improved                 1979   \n",
      "2017-01            67.0  New Generation                 1978   \n",
      "2017-01            67.0  New Generation                 1980   \n",
      "2017-01            68.0  New Generation                 1980   \n",
      "2017-01            67.0  New Generation                 1980   \n",
      "...                 ...             ...                  ...   \n",
      "2021-06           112.0        Improved                 2016   \n",
      "2021-06           181.0       Apartment                 1992   \n",
      "2021-06           152.0      Maisonette                 1985   \n",
      "2021-06           146.0      Maisonette                 1987   \n",
      "2021-06           146.0      Maisonette                 1988   \n",
      "\n",
      "            remaining_lease  resale_price  \n",
      "month                                      \n",
      "2017-01  61 years 04 months      232000.0  \n",
      "2017-01  60 years 07 months      250000.0  \n",
      "2017-01  62 years 05 months      262000.0  \n",
      "2017-01   62 years 01 month      265000.0  \n",
      "2017-01  62 years 05 months      265000.0  \n",
      "...                     ...           ...  \n",
      "2021-06  93 years 10 months      615000.0  \n",
      "2021-06  69 years 11 months      868000.0  \n",
      "2021-06  63 years 03 months      585000.0  \n",
      "2021-06  65 years 04 months      600000.0  \n",
      "2021-06  65 years 08 months      715000.0  \n",
      "\n",
      "[100225 rows x 10 columns]\n"
     ]
    }
   ],
   "source": [
    "print(rs_5)  # 10 columns lease remaining #"
   ]
  },
  {
   "cell_type": "code",
   "execution_count": 33,
   "id": "88554629",
   "metadata": {},
   "outputs": [
    {
     "data": {
      "text/plain": [
       "<bound method DataFrame.count of                town  flat_type block        street_name storey_range  \\\n",
       "month                                                                  \n",
       "2017-01  ANG MO KIO     2 ROOM   406  ANG MO KIO AVE 10     10 TO 12   \n",
       "2017-01  ANG MO KIO     3 ROOM   108   ANG MO KIO AVE 4     01 TO 03   \n",
       "2017-01  ANG MO KIO     3 ROOM   602   ANG MO KIO AVE 5     01 TO 03   \n",
       "2017-01  ANG MO KIO     3 ROOM   465  ANG MO KIO AVE 10     04 TO 06   \n",
       "2017-01  ANG MO KIO     3 ROOM   601   ANG MO KIO AVE 5     01 TO 03   \n",
       "...             ...        ...   ...                ...          ...   \n",
       "2021-06      YISHUN     5 ROOM  505C       YISHUN ST 51     10 TO 12   \n",
       "2021-06      YISHUN  EXECUTIVE   664       YISHUN AVE 4     01 TO 03   \n",
       "2021-06      YISHUN  EXECUTIVE   277       YISHUN ST 22     01 TO 03   \n",
       "2021-06      YISHUN  EXECUTIVE   643       YISHUN ST 61     01 TO 03   \n",
       "2021-06      YISHUN  EXECUTIVE   828       YISHUN ST 81     04 TO 06   \n",
       "\n",
       "         floor_area_sqm      flat_model  lease_commence_date  \\\n",
       "month                                                          \n",
       "2017-01            44.0        Improved                 1979   \n",
       "2017-01            67.0  New Generation                 1978   \n",
       "2017-01            67.0  New Generation                 1980   \n",
       "2017-01            68.0  New Generation                 1980   \n",
       "2017-01            67.0  New Generation                 1980   \n",
       "...                 ...             ...                  ...   \n",
       "2021-06           112.0        Improved                 2016   \n",
       "2021-06           181.0       Apartment                 1992   \n",
       "2021-06           152.0      Maisonette                 1985   \n",
       "2021-06           146.0      Maisonette                 1987   \n",
       "2021-06           146.0      Maisonette                 1988   \n",
       "\n",
       "            remaining_lease  resale_price  \n",
       "month                                      \n",
       "2017-01  61 years 04 months      232000.0  \n",
       "2017-01  60 years 07 months      250000.0  \n",
       "2017-01  62 years 05 months      262000.0  \n",
       "2017-01   62 years 01 month      265000.0  \n",
       "2017-01  62 years 05 months      265000.0  \n",
       "...                     ...           ...  \n",
       "2021-06  93 years 10 months      615000.0  \n",
       "2021-06  69 years 11 months      868000.0  \n",
       "2021-06  63 years 03 months      585000.0  \n",
       "2021-06  65 years 04 months      600000.0  \n",
       "2021-06  65 years 08 months      715000.0  \n",
       "\n",
       "[100225 rows x 10 columns]>"
      ]
     },
     "execution_count": 33,
     "metadata": {},
     "output_type": "execute_result"
    }
   ],
   "source": [
    "rs_5.count"
   ]
  },
  {
   "cell_type": "code",
   "execution_count": 34,
   "id": "6b0a9acc",
   "metadata": {},
   "outputs": [
    {
     "data": {
      "text/plain": [
       "town                     26\n",
       "flat_type                 7\n",
       "block                  2522\n",
       "street_name             552\n",
       "storey_range             17\n",
       "floor_area_sqm          166\n",
       "flat_model               20\n",
       "lease_commence_date      54\n",
       "remaining_lease         637\n",
       "resale_price           2759\n",
       "dtype: int64"
      ]
     },
     "execution_count": 34,
     "metadata": {},
     "output_type": "execute_result"
    }
   ],
   "source": [
    "##'''RS_4 and RS_5''' have extra column\n",
    "# Remaining Lease column included #\n",
    "# MND announced that SERs only for selected areas.\n",
    "# Resale flats will eventually decrease in value as end of lease 'zero' year approaches\n",
    "# Resale flats 2nd Upgrading at year 70 into lease?\n",
    "\n",
    "rs_5.nunique()"
   ]
  },
  {
   "cell_type": "code",
   "execution_count": 35,
   "id": "90836fe4",
   "metadata": {},
   "outputs": [
    {
     "data": {
      "text/plain": [
       "pandas.core.series.Series"
      ]
     },
     "execution_count": 35,
     "metadata": {},
     "output_type": "execute_result"
    }
   ],
   "source": [
    "#series and dataframes\n",
    "type(rs_5['town'])"
   ]
  },
  {
   "cell_type": "code",
   "execution_count": 36,
   "id": "2b18b127",
   "metadata": {},
   "outputs": [],
   "source": [
    "# location data consolidate #\n",
    "\n",
    "rs_5a = rs_5[['block', 'street_name', 'town']]"
   ]
  },
  {
   "cell_type": "code",
   "execution_count": 37,
   "id": "5ef51755",
   "metadata": {},
   "outputs": [
    {
     "name": "stdout",
     "output_type": "stream",
     "text": [
      "        block        street_name        town\n",
      "month                                       \n",
      "2017-01   406  ANG MO KIO AVE 10  ANG MO KIO\n",
      "2017-01   108   ANG MO KIO AVE 4  ANG MO KIO\n",
      "2017-01   602   ANG MO KIO AVE 5  ANG MO KIO\n",
      "2017-01   465  ANG MO KIO AVE 10  ANG MO KIO\n",
      "2017-01   601   ANG MO KIO AVE 5  ANG MO KIO\n",
      "...       ...                ...         ...\n",
      "2021-06  505C       YISHUN ST 51      YISHUN\n",
      "2021-06   664       YISHUN AVE 4      YISHUN\n",
      "2021-06   277       YISHUN ST 22      YISHUN\n",
      "2021-06   643       YISHUN ST 61      YISHUN\n",
      "2021-06   828       YISHUN ST 81      YISHUN\n",
      "\n",
      "[100225 rows x 3 columns]\n"
     ]
    }
   ],
   "source": [
    "print(rs_5a)"
   ]
  },
  {
   "cell_type": "code",
   "execution_count": 38,
   "id": "0def309a",
   "metadata": {
    "scrolled": true
   },
   "outputs": [
    {
     "data": {
      "text/plain": [
       "pandas.core.frame.DataFrame"
      ]
     },
     "execution_count": 38,
     "metadata": {},
     "output_type": "execute_result"
    }
   ],
   "source": [
    "type(rs_5a)"
   ]
  },
  {
   "cell_type": "code",
   "execution_count": 39,
   "id": "05ae1800",
   "metadata": {},
   "outputs": [
    {
     "data": {
      "text/plain": [
       "Index(['town', 'flat_type', 'block', 'street_name', 'storey_range',\n",
       "       'floor_area_sqm', 'flat_model', 'lease_commence_date',\n",
       "       'remaining_lease', 'resale_price'],\n",
       "      dtype='object')"
      ]
     },
     "execution_count": 39,
     "metadata": {},
     "output_type": "execute_result"
    }
   ],
   "source": [
    "rs_5.columns"
   ]
  },
  {
   "cell_type": "code",
   "execution_count": 40,
   "id": "21093373",
   "metadata": {
    "scrolled": true
   },
   "outputs": [
    {
     "name": "stdout",
     "output_type": "stream",
     "text": [
      "         flat_type      flat_model  floor_area_sqm storey_range\n",
      "month                                                          \n",
      "2017-01     2 ROOM        Improved            44.0     10 TO 12\n",
      "2017-01     3 ROOM  New Generation            67.0     01 TO 03\n",
      "2017-01     3 ROOM  New Generation            67.0     01 TO 03\n",
      "2017-01     3 ROOM  New Generation            68.0     04 TO 06\n",
      "2017-01     3 ROOM  New Generation            67.0     01 TO 03\n",
      "...            ...             ...             ...          ...\n",
      "2021-06     5 ROOM        Improved           112.0     10 TO 12\n",
      "2021-06  EXECUTIVE       Apartment           181.0     01 TO 03\n",
      "2021-06  EXECUTIVE      Maisonette           152.0     01 TO 03\n",
      "2021-06  EXECUTIVE      Maisonette           146.0     01 TO 03\n",
      "2021-06  EXECUTIVE      Maisonette           146.0     04 TO 06\n",
      "\n",
      "[100225 rows x 4 columns]\n"
     ]
    }
   ],
   "source": [
    "# Flat data consolidate #\n",
    "\n",
    "rs_5b = rs_5[['flat_type', 'flat_model', 'floor_area_sqm', 'storey_range']]\n",
    "print(rs_5b)"
   ]
  },
  {
   "cell_type": "code",
   "execution_count": 41,
   "id": "89f0c5b2",
   "metadata": {},
   "outputs": [
    {
     "name": "stdout",
     "output_type": "stream",
     "text": [
      "            remaining_lease  resale_price\n",
      "month                                    \n",
      "2017-01  61 years 04 months      232000.0\n",
      "2017-01  60 years 07 months      250000.0\n",
      "2017-01  62 years 05 months      262000.0\n",
      "2017-01   62 years 01 month      265000.0\n",
      "2017-01  62 years 05 months      265000.0\n",
      "...                     ...           ...\n",
      "2021-06  93 years 10 months      615000.0\n",
      "2021-06  69 years 11 months      868000.0\n",
      "2021-06  63 years 03 months      585000.0\n",
      "2021-06  65 years 04 months      600000.0\n",
      "2021-06  65 years 08 months      715000.0\n",
      "\n",
      "[100225 rows x 2 columns]\n"
     ]
    }
   ],
   "source": [
    "rs_5c = rs_5[['remaining_lease', 'resale_price']]\n",
    "print(rs_5c)"
   ]
  },
  {
   "cell_type": "code",
   "execution_count": 42,
   "id": "27376f95",
   "metadata": {},
   "outputs": [
    {
     "name": "stdout",
     "output_type": "stream",
     "text": [
      "        block        street_name        town  flat_type      flat_model  \\\n",
      "month                                                                     \n",
      "2017-01   406  ANG MO KIO AVE 10  ANG MO KIO     2 ROOM        Improved   \n",
      "2017-01   108   ANG MO KIO AVE 4  ANG MO KIO     3 ROOM  New Generation   \n",
      "2017-01   602   ANG MO KIO AVE 5  ANG MO KIO     3 ROOM  New Generation   \n",
      "2017-01   465  ANG MO KIO AVE 10  ANG MO KIO     3 ROOM  New Generation   \n",
      "2017-01   601   ANG MO KIO AVE 5  ANG MO KIO     3 ROOM  New Generation   \n",
      "...       ...                ...         ...        ...             ...   \n",
      "2021-06  505C       YISHUN ST 51      YISHUN     5 ROOM        Improved   \n",
      "2021-06   664       YISHUN AVE 4      YISHUN  EXECUTIVE       Apartment   \n",
      "2021-06   277       YISHUN ST 22      YISHUN  EXECUTIVE      Maisonette   \n",
      "2021-06   643       YISHUN ST 61      YISHUN  EXECUTIVE      Maisonette   \n",
      "2021-06   828       YISHUN ST 81      YISHUN  EXECUTIVE      Maisonette   \n",
      "\n",
      "         floor_area_sqm storey_range     remaining_lease  resale_price  \n",
      "month                                                                   \n",
      "2017-01            44.0     10 TO 12  61 years 04 months      232000.0  \n",
      "2017-01            67.0     01 TO 03  60 years 07 months      250000.0  \n",
      "2017-01            67.0     01 TO 03  62 years 05 months      262000.0  \n",
      "2017-01            68.0     04 TO 06   62 years 01 month      265000.0  \n",
      "2017-01            67.0     01 TO 03  62 years 05 months      265000.0  \n",
      "...                 ...          ...                 ...           ...  \n",
      "2021-06           112.0     10 TO 12  93 years 10 months      615000.0  \n",
      "2021-06           181.0     01 TO 03  69 years 11 months      868000.0  \n",
      "2021-06           152.0     01 TO 03  63 years 03 months      585000.0  \n",
      "2021-06           146.0     01 TO 03  65 years 04 months      600000.0  \n",
      "2021-06           146.0     04 TO 06  65 years 08 months      715000.0  \n",
      "\n",
      "[100225 rows x 9 columns]\n"
     ]
    }
   ],
   "source": [
    "# TA-DA!!#\n",
    "\n",
    "rs_5abc = pd.concat([rs_5a, rs_5b, rs_5c], axis=1)\n",
    "print(rs_5abc)"
   ]
  },
  {
   "cell_type": "code",
   "execution_count": 43,
   "id": "139212f0",
   "metadata": {},
   "outputs": [
    {
     "data": {
      "text/plain": [
       "pandas.core.frame.DataFrame"
      ]
     },
     "execution_count": 43,
     "metadata": {},
     "output_type": "execute_result"
    }
   ],
   "source": [
    "type(rs_5abc)"
   ]
  },
  {
   "cell_type": "code",
   "execution_count": 44,
   "id": "6b96b288",
   "metadata": {},
   "outputs": [
    {
     "data": {
      "text/html": [
       "<div>\n",
       "<style scoped>\n",
       "    .dataframe tbody tr th:only-of-type {\n",
       "        vertical-align: middle;\n",
       "    }\n",
       "\n",
       "    .dataframe tbody tr th {\n",
       "        vertical-align: top;\n",
       "    }\n",
       "\n",
       "    .dataframe thead th {\n",
       "        text-align: right;\n",
       "    }\n",
       "</style>\n",
       "<table border=\"1\" class=\"dataframe\">\n",
       "  <thead>\n",
       "    <tr style=\"text-align: right;\">\n",
       "      <th></th>\n",
       "      <th>block</th>\n",
       "      <th>street_name</th>\n",
       "      <th>town</th>\n",
       "      <th>flat_type</th>\n",
       "      <th>flat_model</th>\n",
       "      <th>floor_area_sqm</th>\n",
       "      <th>storey_range</th>\n",
       "      <th>remaining_lease</th>\n",
       "      <th>resale_price</th>\n",
       "    </tr>\n",
       "    <tr>\n",
       "      <th>month</th>\n",
       "      <th></th>\n",
       "      <th></th>\n",
       "      <th></th>\n",
       "      <th></th>\n",
       "      <th></th>\n",
       "      <th></th>\n",
       "      <th></th>\n",
       "      <th></th>\n",
       "      <th></th>\n",
       "    </tr>\n",
       "  </thead>\n",
       "  <tbody>\n",
       "    <tr>\n",
       "      <th>2017-01</th>\n",
       "      <td>406</td>\n",
       "      <td>ANG MO KIO AVE 10</td>\n",
       "      <td>ANG MO KIO</td>\n",
       "      <td>2 ROOM</td>\n",
       "      <td>Improved</td>\n",
       "      <td>44.0</td>\n",
       "      <td>10 TO 12</td>\n",
       "      <td>61 years 04 months</td>\n",
       "      <td>232000.0</td>\n",
       "    </tr>\n",
       "    <tr>\n",
       "      <th>2017-01</th>\n",
       "      <td>108</td>\n",
       "      <td>ANG MO KIO AVE 4</td>\n",
       "      <td>ANG MO KIO</td>\n",
       "      <td>3 ROOM</td>\n",
       "      <td>New Generation</td>\n",
       "      <td>67.0</td>\n",
       "      <td>01 TO 03</td>\n",
       "      <td>60 years 07 months</td>\n",
       "      <td>250000.0</td>\n",
       "    </tr>\n",
       "    <tr>\n",
       "      <th>2017-01</th>\n",
       "      <td>602</td>\n",
       "      <td>ANG MO KIO AVE 5</td>\n",
       "      <td>ANG MO KIO</td>\n",
       "      <td>3 ROOM</td>\n",
       "      <td>New Generation</td>\n",
       "      <td>67.0</td>\n",
       "      <td>01 TO 03</td>\n",
       "      <td>62 years 05 months</td>\n",
       "      <td>262000.0</td>\n",
       "    </tr>\n",
       "    <tr>\n",
       "      <th>2017-01</th>\n",
       "      <td>465</td>\n",
       "      <td>ANG MO KIO AVE 10</td>\n",
       "      <td>ANG MO KIO</td>\n",
       "      <td>3 ROOM</td>\n",
       "      <td>New Generation</td>\n",
       "      <td>68.0</td>\n",
       "      <td>04 TO 06</td>\n",
       "      <td>62 years 01 month</td>\n",
       "      <td>265000.0</td>\n",
       "    </tr>\n",
       "    <tr>\n",
       "      <th>2017-01</th>\n",
       "      <td>601</td>\n",
       "      <td>ANG MO KIO AVE 5</td>\n",
       "      <td>ANG MO KIO</td>\n",
       "      <td>3 ROOM</td>\n",
       "      <td>New Generation</td>\n",
       "      <td>67.0</td>\n",
       "      <td>01 TO 03</td>\n",
       "      <td>62 years 05 months</td>\n",
       "      <td>265000.0</td>\n",
       "    </tr>\n",
       "  </tbody>\n",
       "</table>\n",
       "</div>"
      ],
      "text/plain": [
       "        block        street_name        town flat_type      flat_model  \\\n",
       "month                                                                    \n",
       "2017-01   406  ANG MO KIO AVE 10  ANG MO KIO    2 ROOM        Improved   \n",
       "2017-01   108   ANG MO KIO AVE 4  ANG MO KIO    3 ROOM  New Generation   \n",
       "2017-01   602   ANG MO KIO AVE 5  ANG MO KIO    3 ROOM  New Generation   \n",
       "2017-01   465  ANG MO KIO AVE 10  ANG MO KIO    3 ROOM  New Generation   \n",
       "2017-01   601   ANG MO KIO AVE 5  ANG MO KIO    3 ROOM  New Generation   \n",
       "\n",
       "         floor_area_sqm storey_range     remaining_lease  resale_price  \n",
       "month                                                                   \n",
       "2017-01            44.0     10 TO 12  61 years 04 months      232000.0  \n",
       "2017-01            67.0     01 TO 03  60 years 07 months      250000.0  \n",
       "2017-01            67.0     01 TO 03  62 years 05 months      262000.0  \n",
       "2017-01            68.0     04 TO 06   62 years 01 month      265000.0  \n",
       "2017-01            67.0     01 TO 03  62 years 05 months      265000.0  "
      ]
     },
     "execution_count": 44,
     "metadata": {},
     "output_type": "execute_result"
    }
   ],
   "source": [
    "rs_5abc.head()"
   ]
  },
  {
   "cell_type": "code",
   "execution_count": 45,
   "id": "947d9254",
   "metadata": {},
   "outputs": [
    {
     "data": {
      "text/html": [
       "<div>\n",
       "<style scoped>\n",
       "    .dataframe tbody tr th:only-of-type {\n",
       "        vertical-align: middle;\n",
       "    }\n",
       "\n",
       "    .dataframe tbody tr th {\n",
       "        vertical-align: top;\n",
       "    }\n",
       "\n",
       "    .dataframe thead th {\n",
       "        text-align: right;\n",
       "    }\n",
       "</style>\n",
       "<table border=\"1\" class=\"dataframe\">\n",
       "  <thead>\n",
       "    <tr style=\"text-align: right;\">\n",
       "      <th></th>\n",
       "      <th>block</th>\n",
       "      <th>street_name</th>\n",
       "      <th>town</th>\n",
       "      <th>flat_type</th>\n",
       "      <th>flat_model</th>\n",
       "      <th>floor_area_sqm</th>\n",
       "      <th>storey_range</th>\n",
       "      <th>remaining_lease</th>\n",
       "      <th>resale_price</th>\n",
       "    </tr>\n",
       "    <tr>\n",
       "      <th>month</th>\n",
       "      <th></th>\n",
       "      <th></th>\n",
       "      <th></th>\n",
       "      <th></th>\n",
       "      <th></th>\n",
       "      <th></th>\n",
       "      <th></th>\n",
       "      <th></th>\n",
       "      <th></th>\n",
       "    </tr>\n",
       "  </thead>\n",
       "  <tbody>\n",
       "    <tr>\n",
       "      <th>2021-06</th>\n",
       "      <td>505C</td>\n",
       "      <td>YISHUN ST 51</td>\n",
       "      <td>YISHUN</td>\n",
       "      <td>5 ROOM</td>\n",
       "      <td>Improved</td>\n",
       "      <td>112.0</td>\n",
       "      <td>10 TO 12</td>\n",
       "      <td>93 years 10 months</td>\n",
       "      <td>615000.0</td>\n",
       "    </tr>\n",
       "    <tr>\n",
       "      <th>2021-06</th>\n",
       "      <td>664</td>\n",
       "      <td>YISHUN AVE 4</td>\n",
       "      <td>YISHUN</td>\n",
       "      <td>EXECUTIVE</td>\n",
       "      <td>Apartment</td>\n",
       "      <td>181.0</td>\n",
       "      <td>01 TO 03</td>\n",
       "      <td>69 years 11 months</td>\n",
       "      <td>868000.0</td>\n",
       "    </tr>\n",
       "    <tr>\n",
       "      <th>2021-06</th>\n",
       "      <td>277</td>\n",
       "      <td>YISHUN ST 22</td>\n",
       "      <td>YISHUN</td>\n",
       "      <td>EXECUTIVE</td>\n",
       "      <td>Maisonette</td>\n",
       "      <td>152.0</td>\n",
       "      <td>01 TO 03</td>\n",
       "      <td>63 years 03 months</td>\n",
       "      <td>585000.0</td>\n",
       "    </tr>\n",
       "    <tr>\n",
       "      <th>2021-06</th>\n",
       "      <td>643</td>\n",
       "      <td>YISHUN ST 61</td>\n",
       "      <td>YISHUN</td>\n",
       "      <td>EXECUTIVE</td>\n",
       "      <td>Maisonette</td>\n",
       "      <td>146.0</td>\n",
       "      <td>01 TO 03</td>\n",
       "      <td>65 years 04 months</td>\n",
       "      <td>600000.0</td>\n",
       "    </tr>\n",
       "    <tr>\n",
       "      <th>2021-06</th>\n",
       "      <td>828</td>\n",
       "      <td>YISHUN ST 81</td>\n",
       "      <td>YISHUN</td>\n",
       "      <td>EXECUTIVE</td>\n",
       "      <td>Maisonette</td>\n",
       "      <td>146.0</td>\n",
       "      <td>04 TO 06</td>\n",
       "      <td>65 years 08 months</td>\n",
       "      <td>715000.0</td>\n",
       "    </tr>\n",
       "  </tbody>\n",
       "</table>\n",
       "</div>"
      ],
      "text/plain": [
       "        block   street_name    town  flat_type  flat_model  floor_area_sqm  \\\n",
       "month                                                                        \n",
       "2021-06  505C  YISHUN ST 51  YISHUN     5 ROOM    Improved           112.0   \n",
       "2021-06   664  YISHUN AVE 4  YISHUN  EXECUTIVE   Apartment           181.0   \n",
       "2021-06   277  YISHUN ST 22  YISHUN  EXECUTIVE  Maisonette           152.0   \n",
       "2021-06   643  YISHUN ST 61  YISHUN  EXECUTIVE  Maisonette           146.0   \n",
       "2021-06   828  YISHUN ST 81  YISHUN  EXECUTIVE  Maisonette           146.0   \n",
       "\n",
       "        storey_range     remaining_lease  resale_price  \n",
       "month                                                   \n",
       "2021-06     10 TO 12  93 years 10 months      615000.0  \n",
       "2021-06     01 TO 03  69 years 11 months      868000.0  \n",
       "2021-06     01 TO 03  63 years 03 months      585000.0  \n",
       "2021-06     01 TO 03  65 years 04 months      600000.0  \n",
       "2021-06     04 TO 06  65 years 08 months      715000.0  "
      ]
     },
     "execution_count": 45,
     "metadata": {},
     "output_type": "execute_result"
    }
   ],
   "source": [
    "rs_5abc.tail()"
   ]
  },
  {
   "cell_type": "code",
   "execution_count": null,
   "id": "80428141",
   "metadata": {},
   "outputs": [],
   "source": []
  },
  {
   "cell_type": "code",
   "execution_count": null,
   "id": "4addaab6",
   "metadata": {},
   "outputs": [],
   "source": []
  },
  {
   "cell_type": "code",
   "execution_count": null,
   "id": "880d1922",
   "metadata": {},
   "outputs": [],
   "source": []
  },
  {
   "cell_type": "code",
   "execution_count": null,
   "id": "3bbc50f1",
   "metadata": {},
   "outputs": [],
   "source": []
  },
  {
   "cell_type": "code",
   "execution_count": null,
   "id": "8a582d05",
   "metadata": {},
   "outputs": [],
   "source": []
  }
 ],
 "metadata": {
  "kernelspec": {
   "display_name": "Python 3",
   "language": "python",
   "name": "python3"
  },
  "language_info": {
   "codemirror_mode": {
    "name": "ipython",
    "version": 3
   },
   "file_extension": ".py",
   "mimetype": "text/x-python",
   "name": "python",
   "nbconvert_exporter": "python",
   "pygments_lexer": "ipython3",
   "version": "3.8.8"
  }
 },
 "nbformat": 4,
 "nbformat_minor": 5
}
